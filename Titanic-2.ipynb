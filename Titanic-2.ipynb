{
 "cells": [
  {
   "cell_type": "code",
   "execution_count": 1,
   "id": "743c1b29",
   "metadata": {},
   "outputs": [
    {
     "data": {
      "text/html": [
       "<div>\n",
       "<style scoped>\n",
       "    .dataframe tbody tr th:only-of-type {\n",
       "        vertical-align: middle;\n",
       "    }\n",
       "\n",
       "    .dataframe tbody tr th {\n",
       "        vertical-align: top;\n",
       "    }\n",
       "\n",
       "    .dataframe thead th {\n",
       "        text-align: right;\n",
       "    }\n",
       "</style>\n",
       "<table border=\"1\" class=\"dataframe\">\n",
       "  <thead>\n",
       "    <tr style=\"text-align: right;\">\n",
       "      <th></th>\n",
       "      <th>PassengerId</th>\n",
       "      <th>Survived</th>\n",
       "      <th>Pclass</th>\n",
       "      <th>Name</th>\n",
       "      <th>Sex</th>\n",
       "      <th>Age</th>\n",
       "      <th>SibSp</th>\n",
       "      <th>Parch</th>\n",
       "      <th>Ticket</th>\n",
       "      <th>Fare</th>\n",
       "      <th>Cabin</th>\n",
       "      <th>Embarked</th>\n",
       "    </tr>\n",
       "  </thead>\n",
       "  <tbody>\n",
       "    <tr>\n",
       "      <th>0</th>\n",
       "      <td>1</td>\n",
       "      <td>0</td>\n",
       "      <td>3</td>\n",
       "      <td>Braund, Mr. Owen Harris</td>\n",
       "      <td>male</td>\n",
       "      <td>22.0</td>\n",
       "      <td>1</td>\n",
       "      <td>0</td>\n",
       "      <td>A/5 21171</td>\n",
       "      <td>7.2500</td>\n",
       "      <td>NaN</td>\n",
       "      <td>S</td>\n",
       "    </tr>\n",
       "    <tr>\n",
       "      <th>1</th>\n",
       "      <td>2</td>\n",
       "      <td>1</td>\n",
       "      <td>1</td>\n",
       "      <td>Cumings, Mrs. John Bradley (Florence Briggs Th...</td>\n",
       "      <td>female</td>\n",
       "      <td>38.0</td>\n",
       "      <td>1</td>\n",
       "      <td>0</td>\n",
       "      <td>PC 17599</td>\n",
       "      <td>71.2833</td>\n",
       "      <td>C85</td>\n",
       "      <td>C</td>\n",
       "    </tr>\n",
       "    <tr>\n",
       "      <th>2</th>\n",
       "      <td>3</td>\n",
       "      <td>1</td>\n",
       "      <td>3</td>\n",
       "      <td>Heikkinen, Miss. Laina</td>\n",
       "      <td>female</td>\n",
       "      <td>26.0</td>\n",
       "      <td>0</td>\n",
       "      <td>0</td>\n",
       "      <td>STON/O2. 3101282</td>\n",
       "      <td>7.9250</td>\n",
       "      <td>NaN</td>\n",
       "      <td>S</td>\n",
       "    </tr>\n",
       "    <tr>\n",
       "      <th>3</th>\n",
       "      <td>4</td>\n",
       "      <td>1</td>\n",
       "      <td>1</td>\n",
       "      <td>Futrelle, Mrs. Jacques Heath (Lily May Peel)</td>\n",
       "      <td>female</td>\n",
       "      <td>35.0</td>\n",
       "      <td>1</td>\n",
       "      <td>0</td>\n",
       "      <td>113803</td>\n",
       "      <td>53.1000</td>\n",
       "      <td>C123</td>\n",
       "      <td>S</td>\n",
       "    </tr>\n",
       "    <tr>\n",
       "      <th>4</th>\n",
       "      <td>5</td>\n",
       "      <td>0</td>\n",
       "      <td>3</td>\n",
       "      <td>Allen, Mr. William Henry</td>\n",
       "      <td>male</td>\n",
       "      <td>35.0</td>\n",
       "      <td>0</td>\n",
       "      <td>0</td>\n",
       "      <td>373450</td>\n",
       "      <td>8.0500</td>\n",
       "      <td>NaN</td>\n",
       "      <td>S</td>\n",
       "    </tr>\n",
       "  </tbody>\n",
       "</table>\n",
       "</div>"
      ],
      "text/plain": [
       "   PassengerId  Survived  Pclass  \\\n",
       "0            1         0       3   \n",
       "1            2         1       1   \n",
       "2            3         1       3   \n",
       "3            4         1       1   \n",
       "4            5         0       3   \n",
       "\n",
       "                                                Name     Sex   Age  SibSp  \\\n",
       "0                            Braund, Mr. Owen Harris    male  22.0      1   \n",
       "1  Cumings, Mrs. John Bradley (Florence Briggs Th...  female  38.0      1   \n",
       "2                             Heikkinen, Miss. Laina  female  26.0      0   \n",
       "3       Futrelle, Mrs. Jacques Heath (Lily May Peel)  female  35.0      1   \n",
       "4                           Allen, Mr. William Henry    male  35.0      0   \n",
       "\n",
       "   Parch            Ticket     Fare Cabin Embarked  \n",
       "0      0         A/5 21171   7.2500   NaN        S  \n",
       "1      0          PC 17599  71.2833   C85        C  \n",
       "2      0  STON/O2. 3101282   7.9250   NaN        S  \n",
       "3      0            113803  53.1000  C123        S  \n",
       "4      0            373450   8.0500   NaN        S  "
      ]
     },
     "execution_count": 1,
     "metadata": {},
     "output_type": "execute_result"
    }
   ],
   "source": [
    "import numpy as np #다차원 배열 처리 라이브러리\n",
    "import pandas as pd #데이터 시각화\n",
    "import matplotlib.pyplot as plt #matplotlib.pyplot\n",
    "import seaborn as sns #matplotlib 기반 시각화패키지\n",
    "\n",
    "%matplotlib inline \n",
    "#브라우저에서 바로 확인 (magic command) 윗줄에 같이쓰면 안되는 이유는..?\n",
    "\n",
    "titanic_df = pd.read_csv(\"train_titanic.csv\") #파일 불러오기 Data Frame?\n",
    "test = pd.read_csv(\"test_titanic.csv\")\n",
    "titanic_df.head() #잘 불러왔는지 확인 위한 앞부분 데이터 출력(기본 5행?) 아..드디어.. ㅜㅜ"
   ]
  },
  {
   "cell_type": "code",
   "execution_count": 2,
   "id": "b8c0a9e3",
   "metadata": {
    "scrolled": true
   },
   "outputs": [
    {
     "name": "stdout",
     "output_type": "stream",
     "text": [
      "###학습 데이터 정보###\n",
      "<class 'pandas.core.frame.DataFrame'>\n",
      "RangeIndex: 891 entries, 0 to 890\n",
      "Data columns (total 12 columns):\n",
      " #   Column       Non-Null Count  Dtype  \n",
      "---  ------       --------------  -----  \n",
      " 0   PassengerId  891 non-null    int64  \n",
      " 1   Survived     891 non-null    int64  \n",
      " 2   Pclass       891 non-null    int64  \n",
      " 3   Name         891 non-null    object \n",
      " 4   Sex          891 non-null    object \n",
      " 5   Age          714 non-null    float64\n",
      " 6   SibSp        891 non-null    int64  \n",
      " 7   Parch        891 non-null    int64  \n",
      " 8   Ticket       891 non-null    object \n",
      " 9   Fare         891 non-null    float64\n",
      " 10  Cabin        204 non-null    object \n",
      " 11  Embarked     889 non-null    object \n",
      "dtypes: float64(2), int64(5), object(5)\n",
      "memory usage: 83.7+ KB\n",
      "None\n"
     ]
    }
   ],
   "source": [
    "print(\"###학습 데이터 정보###\")\n",
    "print(titanic_df.info()) #데이터 정보출력\n",
    "### null인 데이터 확인"
   ]
  },
  {
   "cell_type": "code",
   "execution_count": 3,
   "id": "d88a9891",
   "metadata": {},
   "outputs": [
    {
     "name": "stdout",
     "output_type": "stream",
     "text": [
      "데이터 세트 NULL값 개수 : 0\n"
     ]
    }
   ],
   "source": [
    "titanic_df['Age'].fillna(titanic_df['Age'].mean(),inplace = True) \n",
    "test[\"Age\"].fillna(test[\"Age\"].mean(),inplace = True)\n",
    "#fillna->결측값채우기, age의 평균값으로 inplace = True ->즉각반영\n",
    "\n",
    "titanic_df['Cabin'].fillna('N',inplace = True) #N으로 채우기\n",
    "test[\"Cabin\"].fillna('N',inplace = True)\n",
    "\n",
    "titanic_df['Embarked'].fillna('N',inplace = True)\n",
    "test[\"Embarked\"].fillna('N',inplace = True)\n",
    "\n",
    "print(\"데이터 세트 NULL값 개수 :\",titanic_df.isnull().sum().sum())\n",
    "#isnull().sum().sum() 데이터 프레임 전체에서 Null값 몇개인지 반환"
   ]
  },
  {
   "cell_type": "code",
   "execution_count": 4,
   "id": "c8675d5a",
   "metadata": {},
   "outputs": [
    {
     "name": "stdout",
     "output_type": "stream",
     "text": [
      "Sex값 분포:\n",
      "male      577\n",
      "female    314\n",
      "Name: Sex, dtype: int64\n",
      "\n",
      "Cabin값 분포:\n",
      "N              687\n",
      "G6               4\n",
      "C23 C25 C27      4\n",
      "B96 B98          4\n",
      "F33              3\n",
      "              ... \n",
      "C82              1\n",
      "A6               1\n",
      "D56              1\n",
      "E50              1\n",
      "B86              1\n",
      "Name: Cabin, Length: 148, dtype: int64\n",
      "\n",
      "Embarked값 분포\n",
      "S    644\n",
      "C    168\n",
      "Q     77\n",
      "N      2\n",
      "Name: Embarked, dtype: int64\n"
     ]
    }
   ],
   "source": [
    "print(\"Sex값 분포:\\n\"+str(titanic_df[\"Sex\"].value_counts())) #.value_counts()값별로 개수새기\n",
    "print(\"\\nCabin값 분포:\\n\"+str(titanic_df[\"Cabin\"].value_counts()))\n",
    "print(\"\\nEmbarked값 분포\\n\"+str(titanic_df[\"Embarked\"].value_counts()))"
   ]
  },
  {
   "cell_type": "code",
   "execution_count": 5,
   "id": "b12d7075",
   "metadata": {},
   "outputs": [
    {
     "name": "stdout",
     "output_type": "stream",
     "text": [
      "0    N\n",
      "1    C\n",
      "2    N\n",
      "Name: Cabin, dtype: object\n"
     ]
    }
   ],
   "source": [
    "titanic_df[\"Cabin\"] = titanic_df[\"Cabin\"].str[:1] #알파벳이 공통부분일 것이라 생각, 알파벳만 남기기\n",
    "test[\"Cabin\"] = test[\"Cabin\"].str[:1]\n",
    "\n",
    "print(titanic_df[\"Cabin\"].head(3))"
   ]
  },
  {
   "cell_type": "code",
   "execution_count": 6,
   "id": "36f2f597",
   "metadata": {},
   "outputs": [
    {
     "data": {
      "text/plain": [
       "<AxesSubplot:xlabel='Sex', ylabel='Survived'>"
      ]
     },
     "execution_count": 6,
     "metadata": {},
     "output_type": "execute_result"
    },
    {
     "data": {
      "image/png": "[encoded data removed]",
      "text/plain": [
       "<Figure size 432x288 with 1 Axes>"
      ]
     },
     "metadata": {
      "needs_background": "light"
     },
     "output_type": "display_data"
    }
   ],
   "source": [
    "#성별에 따른 생존률\n",
    "titanic_df.groupby([\"Sex\",\"Survived\"])[\"Survived\"].count() #.groupby그룹별 집계 -> 생존률 확인\n",
    "sns.barplot(x = \"Sex\", y = \"Survived\", data = titanic_df) #barplot -> 막대그래프"
   ]
  },
  {
   "cell_type": "code",
   "execution_count": 7,
   "id": "d48dfd7b",
   "metadata": {},
   "outputs": [
    {
     "data": {
      "text/plain": [
       "<AxesSubplot:xlabel='Pclass', ylabel='Survived'>"
      ]
     },
     "execution_count": 7,
     "metadata": {},
     "output_type": "execute_result"
    },
    {
     "data": {
      "image/png": "[encoded data removed]",
      "text/plain": [
       "<Figure size 432x288 with 1 Axes>"
      ]
     },
     "metadata": {
      "needs_background": "light"
     },
     "output_type": "display_data"
    }
   ],
   "source": [
    "#빈부에 따른 생존률\n",
    "sns.barplot(x = \"Pclass\",y = \"Survived\", hue = \"Sex\", data = titanic_df) #hue ->세부집단시각화"
   ]
  },
  {
   "cell_type": "code",
   "execution_count": 8,
   "id": "283446fb",
   "metadata": {},
   "outputs": [
    {
     "data": {
      "image/png": "[encoded data removed]",
      "text/plain": [
       "<Figure size 720x432 with 1 Axes>"
      ]
     },
     "metadata": {
      "needs_background": "light"
     },
     "output_type": "display_data"
    }
   ],
   "source": [
    "#연령대에 따른 생존률\n",
    "def get_category(age): #연령대를 나누기 위한 함수\n",
    "    \n",
    "    cate = \"\"\n",
    "    \n",
    "    if age <= -1 : cate = \"Unknown\"\n",
    "    elif age <= 5 : cate = \"Baby\"\n",
    "    elif age <= 12 : cate = \"Child\"\n",
    "    elif age <= 18 : cate = \"Teenager\"\n",
    "    elif age <= 25 : cate = \"Student\"\n",
    "    elif age <= 35 : cate = \"Young Adult\"\n",
    "    elif age <= 60 : cate = \"Adult\"\n",
    "    else : cate = \"Elderly\"\n",
    "    \n",
    "    return cate \n",
    "\n",
    "plt.figure(figsize=(10,6)) #figure 더 크게 설정\n",
    "\n",
    "group_names = [\"Unknown\",\"Baby\",\"Child\",\"Teenager\",\"Student\",\"Young Adult\",\"Adult\",\"Elderly\"] #x축 값 순차적 표시위한 설정\n",
    "\n",
    "titanic_df[\"Age_cate\"] = titanic_df[\"Age\"].apply(lambda x : get_category(x))\n",
    "test[\"Age_cate\"] = test[\"Age\"].apply(lambda x : get_category(x))\n",
    "\n",
    "sns.barplot(x = \"Age_cate\",y = \"Survived\", hue = \"Sex\", data = titanic_df, order = group_names)  \n",
    "titanic_df.drop(\"Age_cate\",axis = 1, inplace = True)"
   ]
  },
  {
   "cell_type": "code",
   "execution_count": 9,
   "id": "2412abfd",
   "metadata": {},
   "outputs": [
    {
     "data": {
      "text/html": [
       "<div>\n",
       "<style scoped>\n",
       "    .dataframe tbody tr th:only-of-type {\n",
       "        vertical-align: middle;\n",
       "    }\n",
       "\n",
       "    .dataframe tbody tr th {\n",
       "        vertical-align: top;\n",
       "    }\n",
       "\n",
       "    .dataframe thead th {\n",
       "        text-align: right;\n",
       "    }\n",
       "</style>\n",
       "<table border=\"1\" class=\"dataframe\">\n",
       "  <thead>\n",
       "    <tr style=\"text-align: right;\">\n",
       "      <th></th>\n",
       "      <th>PassengerId</th>\n",
       "      <th>Survived</th>\n",
       "      <th>Pclass</th>\n",
       "      <th>Name</th>\n",
       "      <th>Sex</th>\n",
       "      <th>Age</th>\n",
       "      <th>SibSp</th>\n",
       "      <th>Parch</th>\n",
       "      <th>Ticket</th>\n",
       "      <th>Fare</th>\n",
       "      <th>Cabin</th>\n",
       "      <th>Embarked</th>\n",
       "    </tr>\n",
       "  </thead>\n",
       "  <tbody>\n",
       "    <tr>\n",
       "      <th>0</th>\n",
       "      <td>1</td>\n",
       "      <td>0</td>\n",
       "      <td>3</td>\n",
       "      <td>Braund, Mr. Owen Harris</td>\n",
       "      <td>1</td>\n",
       "      <td>22.0</td>\n",
       "      <td>1</td>\n",
       "      <td>0</td>\n",
       "      <td>A/5 21171</td>\n",
       "      <td>7.2500</td>\n",
       "      <td>7</td>\n",
       "      <td>3</td>\n",
       "    </tr>\n",
       "    <tr>\n",
       "      <th>1</th>\n",
       "      <td>2</td>\n",
       "      <td>1</td>\n",
       "      <td>1</td>\n",
       "      <td>Cumings, Mrs. John Bradley (Florence Briggs Th...</td>\n",
       "      <td>0</td>\n",
       "      <td>38.0</td>\n",
       "      <td>1</td>\n",
       "      <td>0</td>\n",
       "      <td>PC 17599</td>\n",
       "      <td>71.2833</td>\n",
       "      <td>2</td>\n",
       "      <td>0</td>\n",
       "    </tr>\n",
       "    <tr>\n",
       "      <th>2</th>\n",
       "      <td>3</td>\n",
       "      <td>1</td>\n",
       "      <td>3</td>\n",
       "      <td>Heikkinen, Miss. Laina</td>\n",
       "      <td>0</td>\n",
       "      <td>26.0</td>\n",
       "      <td>0</td>\n",
       "      <td>0</td>\n",
       "      <td>STON/O2. 3101282</td>\n",
       "      <td>7.9250</td>\n",
       "      <td>7</td>\n",
       "      <td>3</td>\n",
       "    </tr>\n",
       "    <tr>\n",
       "      <th>3</th>\n",
       "      <td>4</td>\n",
       "      <td>1</td>\n",
       "      <td>1</td>\n",
       "      <td>Futrelle, Mrs. Jacques Heath (Lily May Peel)</td>\n",
       "      <td>0</td>\n",
       "      <td>35.0</td>\n",
       "      <td>1</td>\n",
       "      <td>0</td>\n",
       "      <td>113803</td>\n",
       "      <td>53.1000</td>\n",
       "      <td>2</td>\n",
       "      <td>3</td>\n",
       "    </tr>\n",
       "    <tr>\n",
       "      <th>4</th>\n",
       "      <td>5</td>\n",
       "      <td>0</td>\n",
       "      <td>3</td>\n",
       "      <td>Allen, Mr. William Henry</td>\n",
       "      <td>1</td>\n",
       "      <td>35.0</td>\n",
       "      <td>0</td>\n",
       "      <td>0</td>\n",
       "      <td>373450</td>\n",
       "      <td>8.0500</td>\n",
       "      <td>7</td>\n",
       "      <td>3</td>\n",
       "    </tr>\n",
       "  </tbody>\n",
       "</table>\n",
       "</div>"
      ],
      "text/plain": [
       "   PassengerId  Survived  Pclass  \\\n",
       "0            1         0       3   \n",
       "1            2         1       1   \n",
       "2            3         1       3   \n",
       "3            4         1       1   \n",
       "4            5         0       3   \n",
       "\n",
       "                                                Name  Sex   Age  SibSp  Parch  \\\n",
       "0                            Braund, Mr. Owen Harris    1  22.0      1      0   \n",
       "1  Cumings, Mrs. John Bradley (Florence Briggs Th...    0  38.0      1      0   \n",
       "2                             Heikkinen, Miss. Laina    0  26.0      0      0   \n",
       "3       Futrelle, Mrs. Jacques Heath (Lily May Peel)    0  35.0      1      0   \n",
       "4                           Allen, Mr. William Henry    1  35.0      0      0   \n",
       "\n",
       "             Ticket     Fare  Cabin  Embarked  \n",
       "0         A/5 21171   7.2500      7         3  \n",
       "1          PC 17599  71.2833      2         0  \n",
       "2  STON/O2. 3101282   7.9250      7         3  \n",
       "3            113803  53.1000      2         3  \n",
       "4            373450   8.0500      7         3  "
      ]
     },
     "execution_count": 9,
     "metadata": {},
     "output_type": "execute_result"
    }
   ],
   "source": [
    "#object 데이터형 숫자형으로 바꿔주기 -> LabelEncoding\n",
    "from sklearn import preprocessing #사이킷런 기계학습 라이브러리\n",
    "\n",
    "def encode_features(dataDF) :\n",
    "    features = [\"Cabin\",\"Sex\",\"Embarked\"]\n",
    "    for feature in features :\n",
    "        le = preprocessing.LabelEncoder() #LE -> L abel E ncoder\n",
    "        le = le.fit(dataDF[feature]) #fit -> encoding 하기 위한 set 구하기\n",
    "        dataDF[feature] = le.transform(dataDF[feature]) #transform -> fit의 호출 결과로 set의 각 element를 고유숫자 값으로 변환\n",
    "    return dataDF\n",
    "\n",
    "titanic_df = encode_features(titanic_df)\n",
    "test = encode_features(test)\n",
    "titanic_df.head()"
   ]
  },
  {
   "cell_type": "code",
   "execution_count": 10,
   "id": "60c68aac",
   "metadata": {},
   "outputs": [],
   "source": [
    "#NULL 처리 함수\n",
    "def fillna(df) :\n",
    "    df[\"Age\"].fillna(df[\"Age\"].mean(), inplace = True)\n",
    "    df[\"Cabin\"].fillna('N', inplace = True)\n",
    "    df[\"Embarked\"].fillna('N',inplace = True)\n",
    "    df[\"Fare\"].fillna(0, inplace = True)\n",
    "    return df\n",
    "\n",
    "#불필요한 속성 제거 함수\n",
    "def drop_features(df) :\n",
    "    df.drop([\"PassengerId\",\"Name\",\"Ticket\"], axis = 1, inplace = True)\n",
    "    return df\n",
    "\n",
    "#레이블 인코딩 수행 함수\n",
    "def format_features(df) :\n",
    "    df[\"Cabin\"] = df[\"Cabin\"].str[:1]\n",
    "    features = [\"Cabin\",\"Sex\",\"Embarked\"]\n",
    "    for feature in features :\n",
    "        le = preprocessing.LabelEncoder()\n",
    "        le = le.fit(df[feature])\n",
    "        df[feature] = le.transform(df[feature])\n",
    "    return df\n",
    "\n",
    "#앞에서 선언한 전처리 함수들 호출하는 함수\n",
    "def transform_features(df) :\n",
    "    df = fillna(df)\n",
    "    df = drop_features(df)\n",
    "    df = format_features(df)\n",
    "    return df"
   ]
  },
  {
   "cell_type": "code",
   "execution_count": 11,
   "id": "927d7b76",
   "metadata": {},
   "outputs": [],
   "source": [
    "#원본 데이터 재로딩, feature,label 데이터 set 추출\n",
    "titanic_df = pd.read_csv(\"train_titanic.csv\")\n",
    "y_titanic_df = titanic_df[\"Survived\"]\n",
    "x_titanic_df = titanic_df.drop(\"Survived\",axis = 1) #axis = 1 열방향 동작\n",
    "\n",
    "x_titanic_df = transform_features(x_titanic_df)\n",
    "\n",
    "test = pd.read_csv(\"test_titanic.csv\")\n",
    "x_rtest = transform_features(test)"
   ]
  },
  {
   "cell_type": "code",
   "execution_count": 12,
   "id": "9469d332",
   "metadata": {},
   "outputs": [],
   "source": [
    "from sklearn.model_selection import train_test_split #train data와 test data 분리\n",
    "\n",
    "x_train, x_test, y_train, y_test = train_test_split(x_titanic_df, y_titanic_df, test_size =0.2, random_state = 11)\n",
    "#test_size -> 테스트 셋 구성비율 --default는 0.25"
   ]
  },
  {
   "cell_type": "code",
   "execution_count": 13,
   "id": "181d372e",
   "metadata": {},
   "outputs": [
    {
     "name": "stdout",
     "output_type": "stream",
     "text": [
      "DecisionTreeClassifier 정확도 : 0.787709\n",
      "RandomForestClassifier 정확도 : 0.854749\n",
      "LogisticRegression 정확도 : 0.849162\n"
     ]
    },
    {
     "name": "stderr",
     "output_type": "stream",
     "text": [
      "/Users/sujeongoh/opt/anaconda3/lib/python3.8/site-packages/sklearn/linear_model/_logistic.py:763: ConvergenceWarning: lbfgs failed to converge (status=1):\n",
      "STOP: TOTAL NO. of ITERATIONS REACHED LIMIT.\n",
      "\n",
      "Increase the number of iterations (max_iter) or scale the data as shown in:\n",
      "    https://scikit-learn.org/stable/modules/preprocessing.html\n",
      "Please also refer to the documentation for alternative solver options:\n",
      "    https://scikit-learn.org/stable/modules/linear_model.html#logistic-regression\n",
      "  n_iter_i = _check_optimize_result(\n"
     ]
    }
   ],
   "source": [
    "from sklearn.tree import DecisionTreeClassifier #분류및 회귀를 위한 패키지/의사결정트리분류모델\n",
    "from sklearn.ensemble import RandomForestClassifier #랜덤포레스트 -> 여러개의 의사결정나무의 다수결로\n",
    "from sklearn.linear_model import LogisticRegression #data set에 활용할 logistic 모델 생성?\n",
    "from sklearn.metrics import accuracy_score #훈련데이터 정확도 측정\n",
    "\n",
    "#결정트리, 랜덤포레스트, logistic regression을 위한 사이킷런 Classifier 클래스 생성\n",
    "dt_clf = DecisionTreeClassifier(random_state = 11) #random_state 난수 seed 설정 /D ecision T ree CL assi F ier\n",
    "rf_clf = RandomForestClassifier(random_state = 11) #R andom F orest\n",
    "lr_clf = LogisticRegression() #L ogistic R egression max_iter = 500\n",
    "\n",
    "#결정트리 학습/예측/평가\n",
    "dt_clf.fit(x_train, y_train)\n",
    "dt_pred = dt_clf.predict(x_test) #PRED ict\n",
    "print(\"DecisionTreeClassifier 정확도 : {0:f}\".format(accuracy_score(y_test,dt_pred)))\n",
    "\n",
    "#랜덤포레스트 학습/예측/평가\n",
    "rf_clf.fit(x_train, y_train)\n",
    "rf_pred = rf_clf.predict(x_test) \n",
    "print(\"RandomForestClassifier 정확도 : {0:f}\".format(accuracy_score(y_test,rf_pred)))\n",
    "\n",
    "#LogisticRegression 학습/예측/평가\n",
    "lr_clf.fit(x_train, y_train)\n",
    "lr_pred = lr_clf.predict(x_test)\n",
    "print(\"LogisticRegression 정확도 : {0:f}\".format(accuracy_score(y_test,lr_pred))) #max_iter을 늘려줘야 하나->9행에 200으로 늘림"
   ]
  },
  {
   "cell_type": "code",
   "execution_count": 14,
   "id": "df9fed6b",
   "metadata": {},
   "outputs": [
    {
     "name": "stdout",
     "output_type": "stream",
     "text": [
      "교차 검증0 정확도 : 0.754190\n",
      "교차 검증1 정확도 : 0.780899\n",
      "교차 검증2 정확도 : 0.786517\n",
      "교차 검증3 정확도 : 0.769663\n",
      "교차 검증4 정확도 : 0.820225\n",
      "평균 정확도 : 0.782299\n"
     ]
    }
   ],
   "source": [
    "from sklearn.model_selection import KFold #KFold 교차검증 \n",
    "\n",
    "def exec_kfold(clf, folds = 5): \n",
    "    #폴드 세트 5개인 KFold 객체 생성, 폴드 수만큼 예측 결과 저장을 위한 리스트 객체 생성\n",
    "    kfold = KFold(n_splits = folds)\n",
    "    scores = []\n",
    "    \n",
    "    #KFold 교차 검증 수행\n",
    "    for iter_count, (train_index, test_index) in enumerate(kfold.split(x_titanic_df)):\n",
    "        #X_titanic_df 데이터에서 교차 검증별로 학습과 검증 데이터를 가리키는 index 생성\n",
    "        x_train, x_test = x_titanic_df.values[train_index], x_titanic_df.values[test_index]\n",
    "        y_train, y_test = y_titanic_df.values[train_index], y_titanic_df.values[test_index]\n",
    "        #classifier 학습/예측/정확도 계산\n",
    "        clf.fit(x_train, y_train)\n",
    "        predictions = clf.predict(x_test)\n",
    "        accuracy = accuracy_score(y_test, predictions)\n",
    "        scores.append(accuracy)\n",
    "        print(\"교차 검증{0} 정확도 : {1:f}\".format(iter_count,accuracy))\n",
    "    \n",
    "    #5개 fold에서의 평균 정확도 계산\n",
    "    mean_score = np.mean(scores)\n",
    "    print(\"평균 정확도 : {:f}\".format(mean_score))\n",
    "    \n",
    "#exec_kfold 호출\n",
    "exec_kfold(dt_clf, folds = 5)"
   ]
  },
  {
   "cell_type": "code",
   "execution_count": 15,
   "id": "c2a2bd31",
   "metadata": {},
   "outputs": [
    {
     "name": "stdout",
     "output_type": "stream",
     "text": [
      "교차 검증0 정확도 : 0.743017\n",
      "교차 검증1 정확도 : 0.775281\n",
      "교차 검증2 정확도 : 0.792135\n",
      "교차 검증3 정확도 : 0.786517\n",
      "교차 검증4 정확도 : 0.842697\n",
      "평균 정확도 : 0.787929\n"
     ]
    }
   ],
   "source": [
    "from sklearn.model_selection import cross_val_score #cross_val_score 교차검증 KFold 보다 상대적으로 간단\n",
    "\n",
    "scores = cross_val_score(dt_clf,x_titanic_df, y_titanic_df, cv = 5) #cv -> 교차검증 폴드 수\n",
    "for iter_count, accuracy in enumerate(scores) :\n",
    "    print(\"교차 검증{0} 정확도 : {1:f}\".format(iter_count, accuracy))\n",
    "\n",
    "print(\"평균 정확도 : {:f}\".format(np.mean(scores)))"
   ]
  },
  {
   "cell_type": "code",
   "execution_count": 16,
   "id": "c317b99c",
   "metadata": {},
   "outputs": [
    {
     "name": "stdout",
     "output_type": "stream",
     "text": [
      "GridSearchCV 최적 하이퍼 파라미터 : {'max_depth': 3, 'min_samples_leaf': 5, 'min_samples_split': 2}\n",
      "GridSearchCV 최고 정확도 : 0.799183\n",
      "테스트 세트에서의 DecisionTreeClassifier 정확도 : 0.871508\n"
     ]
    }
   ],
   "source": [
    "from sklearn.model_selection import GridSearchCV #최적의 파라미터 찾기\n",
    "\n",
    "parameters = {\"max_depth\" : [2,3,5,10],\n",
    "             \"min_samples_split\" : [2,3,5],\n",
    "             \"min_samples_leaf\" : [1,5,8]}\n",
    "\n",
    "grid_dclf = GridSearchCV(dt_clf, param_grid = parameters, scoring = \"accuracy\", cv = 5) #dclf?\n",
    "grid_dclf.fit(x_train, y_train)\n",
    "\n",
    "print(\"GridSearchCV 최적 하이퍼 파라미터 :\",grid_dclf.best_params_)\n",
    "print(\"GridSearchCV 최고 정확도 : {:f}\".format(grid_dclf.best_score_))\n",
    "best_dclf = grid_dclf.best_estimator_\n",
    "\n",
    "#GridSearchCV의 최적 하이퍼 파라미터로 학습된 Estimator로 예측,평가 및 수행\n",
    "bpredictions = best_dclf.predict(x_test)\n",
    "accuracy = accuracy_score(y_test, bpredictions)\n",
    "print(\"테스트 세트에서의 DecisionTreeClassifier 정확도 : {:f}\".format(accuracy))"
   ]
  },
  {
   "cell_type": "code",
   "execution_count": 17,
   "id": "2dfd60bf",
   "metadata": {},
   "outputs": [
    {
     "name": "stdout",
     "output_type": "stream",
     "text": [
      "     Pclass  Sex       Age  SibSp  Parch      Fare  Cabin  Embarked\n",
      "0         3    1  34.50000      0      0    7.8292      7         1\n",
      "1         3    0  47.00000      1      0    7.0000      7         2\n",
      "2         2    1  62.00000      0      0    9.6875      7         1\n",
      "3         3    1  27.00000      0      0    8.6625      7         2\n",
      "4         3    0  22.00000      1      1   12.2875      7         2\n",
      "..      ...  ...       ...    ...    ...       ...    ...       ...\n",
      "413       3    1  30.27259      0      0    8.0500      7         2\n",
      "414       1    0  39.00000      0      0  108.9000      2         0\n",
      "415       3    1  38.50000      0      0    7.2500      7         2\n",
      "416       3    1  30.27259      0      0    8.0500      7         2\n",
      "417       3    1  30.27259      1      1   22.3583      7         0\n",
      "\n",
      "[418 rows x 8 columns]\n",
      "     PassengerId  Survived\n",
      "0            892         0\n",
      "1            893         1\n",
      "2            894         0\n",
      "3            895         0\n",
      "4            896         1\n",
      "..           ...       ...\n",
      "413         1305         0\n",
      "414         1306         1\n",
      "415         1307         0\n",
      "416         1308         0\n",
      "417         1309         0\n",
      "\n",
      "[418 rows x 2 columns]\n"
     ]
    }
   ],
   "source": [
    "print(x_rtest)\n",
    "t_test = pd.read_csv(\"test_titanic.csv\")\n",
    "submission = pd.DataFrame({\n",
    "    \"PassengerId\" : t_test[\"PassengerId\"],\n",
    "    \"Survived\" : best_dclf.predict(x_rtest)\n",
    "})\n",
    "print(submission)\n",
    "submission.to_csv(\"titanic_submission.csv\",index = False)"
   ]
  }
 ],
 "metadata": {
  "kernelspec": {
   "display_name": "Python 3",
   "language": "python",
   "name": "python3"
  },
  "language_info": {
   "codemirror_mode": {
    "name": "ipython",
    "version": 3
   },
   "file_extension": ".py",
   "mimetype": "text/x-python",
   "name": "python",
   "nbconvert_exporter": "python",
   "pygments_lexer": "ipython3",
   "version": "3.8.8"
  }
 },
 "nbformat": 4,
 "nbformat_minor": 5
}
